{
 "cells": [
  {
   "cell_type": "markdown",
   "metadata": {
    "id": "SDhaTqxcWhnP"
   },
   "source": [
    "В цьому домашньому завданні відпрацюємо з вами знання, отримані в модулі зі статистики.\n",
    "\n",
    "**Завдання 1.** Ми обговорили з Вами на лекції, що велика літера Сігма грецького алфавіту позначає в математиці суму. Знайдіть з використанням Python $\\Sigma x$, $\\Sigma x^2$, та $\\Sigma (x-1)^2$ для наступного набору даних:\n",
    "`1 3 4`\n",
    "Виведіть результат кожного обчислення на екран."
   ]
  },
  {
   "cell_type": "code",
   "execution_count": 3,
   "metadata": {},
   "outputs": [],
   "source": [
    "import numpy as np"
   ]
  },
  {
   "cell_type": "code",
   "execution_count": 7,
   "metadata": {
    "id": "B1mgx_IBT0e8"
   },
   "outputs": [
    {
     "name": "stdout",
     "output_type": "stream",
     "text": [
      "8\n",
      "26\n",
      "13\n"
     ]
    }
   ],
   "source": [
    "data = np.array([1, 3, 4])\n",
    "resultX = np.sum(data)\n",
    "resultX2 = np.sum(data**2)\n",
    "resultX12 = np.sum((data-1)**2)\n",
    "\n",
    "print(resultX)\n",
    "print(resultX2)\n",
    "print(resultX12)"
   ]
  },
  {
   "cell_type": "markdown",
   "metadata": {
    "id": "fa78aW5lhiia"
   },
   "source": [
    "**Завдання 2.** Ми зібрали дані про суму покупок в гривнях 20ма випадково обраними клієнтами в нашому магазині (всього клієнтів у нас більше) за минулий місяць. Вони представлені в змінній `sum_purchases`. Знайдіть **вибіркове середнє** (**sample mean**) для цих даних кожним з зазначених методів:   \n",
    "\n",
    "  2.1. без використання жодних бібліотек, користуючись тільки Python.  \n",
    "  2.2. використовуючи відповідний метод бібліотеки `numpy`.\n",
    "\n",
    "  Виведіть результат обчислень в кожному з випадків на екран та порівняйте результати. Вони співпадають?"
   ]
  },
  {
   "cell_type": "code",
   "execution_count": 4,
   "metadata": {
    "id": "_9kMt3rq6V5m"
   },
   "outputs": [],
   "source": [
    "sum_purchases = [ 316,  493,  367,  153,  224,  121,  322,  450,  196,  397,  281,\n",
    "  239,  484,  124,  223,  448,  432,  255, 4310, 3524]"
   ]
  },
  {
   "cell_type": "code",
   "execution_count": 22,
   "metadata": {
    "id": "wPmL919HT1c0"
   },
   "outputs": [
    {
     "name": "stdout",
     "output_type": "stream",
     "text": [
      "667.95\n",
      "667.95\n",
      "True, both sample mean correct\n"
     ]
    }
   ],
   "source": [
    "#only python\n",
    "sum_py = sum(sum_purchases)\n",
    "sampleMeanPy = sum_py/len(sum_purchases)\n",
    "\n",
    "print(sampleMeanPy)\n",
    "\n",
    "#only numpy\n",
    "import numpy as np\n",
    "data = np.array(sum_purchases)\n",
    "sampleMeanNp = np.mean(data)\n",
    "\n",
    "print(sampleMeanNp)\n",
    "\n",
    "if sampleMeanPy == sampleMeanNp :\n",
    "    print('True, both sample mean correct!')\n",
    "else :\n",
    "    print('False, something whent wrong! Please recheck!')\n"
   ]
  },
  {
   "cell_type": "markdown",
   "metadata": {
    "id": "FMdoxZd0kZdW"
   },
   "source": [
    "**Завдання 3.** Для того ж набору даних в змінній `sum_purchases` обчисліть **медіану** кожним з зазначених методів:  \n",
    "\n",
    "  3.1. без використання жодних бібліотек, користуючись тільки Python.  \n",
    "  3.2. використовуючи відповідний метод бібліотеки numpy.  \n",
    "\n",
    "Виведіть результат обчислень в кожному з випадків на екран. Порівняйте результати зі значенням вибіркового середнього. Напишіть коментар, для яких задач ви б використовували вибіркове середнє, а для яких - медіану?"
   ]
  },
  {
   "cell_type": "code",
   "execution_count": 27,
   "metadata": {
    "id": "x58BumvuT2nl"
   },
   "outputs": [
    {
     "name": "stdout",
     "output_type": "stream",
     "text": [
      "Found Median Python  319.0\n",
      "Median NumPy  319.0\n"
     ]
    }
   ],
   "source": [
    "#only python\n",
    "\n",
    "# 1. The first we sort the data\n",
    "sorted_data = sorted(sum_purchases)\n",
    "\n",
    "# 2. Take the odd number from the data, and it will be the median (find the leangth of the list)\n",
    "length = len(sorted_data)\n",
    "\n",
    "if(length % 2 == 1):\n",
    "        median = sorted_data[length // 2] # for the case if len is odd  \n",
    "else:\n",
    "        median = (sorted_data[length // 2 - 1] + sorted_data[length // 2]) / 2  # for the case if len is even, so need to take avarage element from the middle\n",
    "\n",
    "print('Found Median Python ', median)\n",
    "\n",
    "#only numpy\n",
    "import numpy as np\n",
    "\n",
    "sorted_data = np.array(sum_purchases) \n",
    "median = np.median(sorted_data) \n",
    "\n",
    "print('Found Median NumPy ', median)\n",
    "\n",
    "Якщо порівняти два підходи, то для нашої вибірки [ 316,  493,  367,  153,  224,  121,  322,  450,  196,  397,  281,\n",
    "  239,  484,  124,  223,  448,  432,  255, 4310, 3524],\n",
    "краще підходить медіана, тому что в нашій вибірті є два великі значення [4310, 3524], \n",
    "які можуть впливати на результат середнього, і тому продокувати неточні розрахунки з великим відхиленням.\n",
    "\n",
    "Для порівняння \n",
    "середня вибірка  = 667.95\n",
    "медіана = 319.0\n",
    "\n",
    "У випадку якщоб наша вибірка мала більш урівноважені (симетричні) данні без якихось вискочок, то було б доцільно використати sample mean, \n",
    "а так як у нас дані перекошені, то треба використовувати медіану.\n"
   ]
  },
  {
   "cell_type": "markdown",
   "metadata": {
    "id": "o1Z7az2yNDQV"
   },
   "source": [
    "**Завдання 4**. Обчислість стандартне відхилення наведеної вибірки в змінній `sum_purchases` кожним з зазначених методів:  \n",
    "\n",
    "  4.1. без використання жодних бібліотек, користуючись тільки Python.  \n",
    "  4.2. використовуючи відповідний метод бібліотеки numpy.  \n",
    "\n",
    "Виведіть результат обчислень в кожному з випадків на екран."
   ]
  },
  {
   "cell_type": "code",
   "execution_count": 30,
   "metadata": {
    "id": "X4ixtmL2T642"
   },
   "outputs": [
    {
     "name": "stdout",
     "output_type": "stream",
     "text": [
      "Standard deviation calculated by python 1124.5433447451132\n",
      "Standard deviation calculated by numpy 1124.5433447451132\n"
     ]
    }
   ],
   "source": [
    "#only python find the standart deviation\n",
    "\n",
    "length = len(sum_purchases)\n",
    "\n",
    "# Step 1: Get the sample mean\n",
    "mean = sum(sum_purchases) / length\n",
    "\n",
    "# Step 2: Get the squared deviations from the mean\n",
    "squared_diffs = [(x - mean) ** 2 for x in sum_purchases]\n",
    "\n",
    "# Step 3: Divide by (n - 1) for sample standard deviation\n",
    "variance = sum(squared_diffs) / (length - 1)\n",
    "\n",
    "# Step 4: Take square root to get standard deviation\n",
    "std_dev_py = variance ** 0.5\n",
    "\n",
    "print(\"Standard deviation calculated by python\", std_dev_py)\n",
    "\n",
    "#only npy\n",
    "\n",
    "import numpy as np\n",
    "data = np.array(sum_purchases)\n",
    "sampleMeanNp = np.mean(data)\n",
    "\n",
    "std_dev_np = np.std(data, ddof= 1)\n",
    "print(\"Standard deviation calculated by numpy\", std_dev_np)\n",
    "\n"
   ]
  },
  {
   "cell_type": "markdown",
   "metadata": {
    "id": "M1ntKTjXLVlH"
   },
   "source": [
    "**Завдання 5**. Ми провели дослідження віку студентів-першокурсників. Виявилось, що\n",
    "- 10 студентів мають вік 16 років\n",
    "- 25 студентів - 17 років\n",
    "- 20 студентів - 18 років\n",
    "- 2 студенти - 20 років\n",
    "\n",
    "Обчислість середнє значення для цієї вибірки будь-яким способом - на чистому Python або з numpy - та виведіть результат на екран."
   ]
  },
  {
   "cell_type": "code",
   "execution_count": 31,
   "metadata": {
    "id": "RdIU4M-7T8R4"
   },
   "outputs": [
    {
     "name": "stdout",
     "output_type": "stream",
     "text": [
      "Students sample mean  17.280701754385966\n"
     ]
    }
   ],
   "source": [
    "import numpy as np\n",
    "\n",
    "# Create the full dataset using frequencies by python formula (List Multiplication: [value] * n) and than used concatenation \n",
    "#[value] * n  + [value] * n + [value] * n\n",
    "\n",
    "ages = [16]*10 + [17]*25 + [18]*20 + [20]*2 \n",
    "mean_age = np.mean(ages)\n",
    "\n",
    "print('Students sample mean ', mean_age)\n"
   ]
  },
  {
   "cell_type": "markdown",
   "metadata": {
    "id": "Xx8MFkkVM53z"
   },
   "source": [
    "**Завдання 6**. Крім даних про суму покупок, ми зібрали ще дані про кількість відвідувань кожного з кожного покупця, які знаходяться в змінній `visits`. Обчисліть коефіцієнт кореляції Пірсона для суми покупок і кількості відвідувань кожним з зазначених методів:  \n",
    "\n",
    "  6.1. без використання жодних бібліотек, користуючись тільки Python.  \n",
    "  6.2. використовуючи відповідний метод бібліотеки numpy.  \n",
    "  \n",
    "Виведіть результат на екран. Проаналізуйте результат.\n",
    "\n",
    "Виведіть додатково графік розсіювання викликавши код нижче і зробіть заключення, чи варто щось змінити при підрахунку кореляції, аби коефіцієнт Пірсона показував коректну оцінку лінійної залежності?"
   ]
  },
  {
   "cell_type": "code",
   "execution_count": 5,
   "metadata": {
    "id": "4OIGBT7UOWhO"
   },
   "outputs": [],
   "source": [
    "visits = [ 6,  2, 10,  3,  9,  9,  2,  3,  6,  6, 10,  2,  5, 10,  3,  5,  4,\n",
    "        7,  4,  2]\n",
    "\n",
    "sum_purchases = [ 316,  493,  367,  153,  224,  121,  322,  450,  196,  397,  281,\n",
    "  239,  484,  124,  223,  448,  432,  255, 4310, 3524]"
   ]
  },
  {
   "cell_type": "code",
   "execution_count": 6,
   "metadata": {
    "id": "YLNF7VbeT97Q"
   },
   "outputs": [
    {
     "name": "stdout",
     "output_type": "stream",
     "text": [
      "Pearson correlation python  -0.30265844687666454\n",
      "Pearson correlation numpy -0.3026584468766646\n"
     ]
    }
   ],
   "source": [
    "# Pearson correlation coefficient r, r measures linear correlation between two variables\n",
    "\n",
    "# Where:\n",
    "# x = sum of purchases\n",
    "# y = number of visits\n",
    "\n",
    "#only python\n",
    "def pearson_corr(x, y):\n",
    "    length = len(x)\n",
    "    mean_x = sum(x)/length\n",
    "    mean_y = sum(y)/length\n",
    "\n",
    "    numerator = sum((x[i] - mean_x) * (y[i] - mean_y) for i in range(length))\n",
    "    denominator_x = sum((x[i] - mean_x) ** 2 for i in range(length)) ** 0.5\n",
    "    denominator_y = sum((y[i] - mean_y) ** 2 for i in range(length)) ** 0.5\n",
    "\n",
    "    return numerator / (denominator_x * denominator_y)\n",
    "\n",
    "pearson_correlation_py = pearson_corr(sum_purchases, visits)\n",
    "print(\"Pearson correlation python \", pearson_correlation_py)\n",
    "\n",
    "#only numpy\n",
    "import numpy as np\n",
    "\n",
    "corr_matrix = np.corrcoef(sum_purchases, visits)\n",
    "pearson_correlation_np = corr_matrix[0, 1]\n",
    "\n",
    "print(\"Pearson correlation numpy\", pearson_correlation_np)\n",
    "\n",
    "\n",
    "#Pearson correlation python  -0.30265844687666454\n",
    "#Pearson correlation numpy -0.3026584468766646\n",
    "\n",
    "#Дивлячись на результат можно заключити що у нас негативна лінійна кореляція взаємодії \n"
   ]
  },
  {
   "cell_type": "code",
   "execution_count": 8,
   "metadata": {
    "colab": {
     "base_uri": "https://localhost:8080/",
     "height": 472
    },
    "id": "gaeoGA-5Prr1",
    "outputId": "0c910a7f-0e96-449a-881d-1efa453b3c8d"
   },
   "outputs": [
    {
     "data": {
      "image/png": "[encoded data removed]",
      "text/plain": [
       "<Figure size 640x480 with 1 Axes>"
      ]
     },
     "metadata": {},
     "output_type": "display_data"
    }
   ],
   "source": [
    "import matplotlib.pyplot as plt\n",
    "\n",
    "plt.scatter(sum_purchases, visits)\n",
    "plt.title('Scatter Plot of Purchases vs. Visits')\n",
    "plt.xlabel('Sum of Purchases')\n",
    "plt.ylabel('Number of Visits');\n",
    "plt.grid(True)\n",
    "plt.show()\n",
    "\n",
    "\n",
    "З того що я думаю ми рахуємо середню по sum_purchases, але там є дата (4310, 3524) яка впливає на розрахунок mean, \n",
    "тому покластись на коефіцієнт кореляції Пірсона ми не можемо. (Буду дуже рада вашим коментарям)"
   ]
  },
  {
   "cell_type": "markdown",
   "metadata": {
    "id": "4pEg0KzSQ6KA"
   },
   "source": [
    "**Завдання 7**. В попередньому завданні ми помітили, що викиди нам заважають отримати \"правдиве\" значення кореляції. Давайте вилучимо записи, які відповідають значенням з викидами в сумі покупок і обчисліть коеф. кореляції. Для цього поставте `threshold`, який дорінює середньому значенню + 2 стандартних вдіхилля суми покупок і всі значення, які більше за нього, будемо вважати викидами (є і інші правила для визначення викидів - з ним и познайомимось пізніше).\n",
    "\n",
    "Вилучіть значення з обох масивів і обчисліть коеф. кореляції Пірсона з допомогою `numpy` для кількості візитів і суми покупок без записів-викидів. Виведіть результат на екран, побудуйте діаграму розсіювання і проаналізуйте результат: що можемо сказати про залежність в даних?"
   ]
  },
  {
   "cell_type": "code",
   "execution_count": 10,
   "metadata": {},
   "outputs": [],
   "source": [
    "visits = [ 6,  2, 10,  3,  9,  9,  2,  3,  6,  6, 10,  2,  5, 10,  3,  5,  4, 7]\n",
    "sum_purchases = [ 316,  493,  367,  153,  224,  121,  322,  450,  196,  397,  281,\n",
    "  239,  484,  124,  223,  448,  432,  255]"
   ]
  },
  {
   "cell_type": "code",
   "execution_count": 11,
   "metadata": {
    "id": "Yj3Yfaf7UBbc"
   },
   "outputs": [
    {
     "name": "stdout",
     "output_type": "stream",
     "text": [
      "Pearson correlation numpy -0.3685212078127797\n"
     ]
    }
   ],
   "source": [
    "#only numpy\n",
    "import numpy as np\n",
    "\n",
    "corr_matrix = np.corrcoef(sum_purchases, visits)\n",
    "pearson_correlation_np = corr_matrix[0, 1]\n",
    "\n",
    "print(\"Pearson correlation numpy\", pearson_correlation_np)"
   ]
  },
  {
   "cell_type": "code",
   "execution_count": 12,
   "metadata": {},
   "outputs": [
    {
     "data": {
      "image/png": "[encoded data removed]",
      "text/plain": [
       "<Figure size 640x480 with 1 Axes>"
      ]
     },
     "metadata": {},
     "output_type": "display_data"
    }
   ],
   "source": [
    "import matplotlib.pyplot as plt\n",
    "\n",
    "plt.scatter(sum_purchases, visits)\n",
    "plt.title('Scatter Plot of Purchases vs. Visits')\n",
    "plt.xlabel('Sum of Purchases')\n",
    "plt.ylabel('Number of Visits');\n",
    "plt.grid(True)\n",
    "plt.show()\n",
    "\n",
    "\n",
    "Я не зовсім розумію на шо воно похожу, якщо добудувати лінію (x:500, y:10) то виглядає як негативний коефіцієнт кореляціі \n",
    "і при тому я б ще заклала що воно дуже хочу стати в 0"
   ]
  },
  {
   "cell_type": "code",
   "execution_count": null,
   "metadata": {},
   "outputs": [],
   "source": []
  }
 ],
 "metadata": {
  "colab": {
   "provenance": []
  },
  "kernelspec": {
   "display_name": "Python 3 (ipykernel)",
   "language": "python",
   "name": "python3"
  },
  "language_info": {
   "codemirror_mode": {
    "name": "ipython",
    "version": 3
   },
   "file_extension": ".py",
   "mimetype": "text/x-python",
   "name": "python",
   "nbconvert_exporter": "python",
   "pygments_lexer": "ipython3",
   "version": "3.12.0"
  }
 },
 "nbformat": 4,
 "nbformat_minor": 4
}
